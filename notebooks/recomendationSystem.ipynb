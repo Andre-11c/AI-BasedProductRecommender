{
 "cells": [
  {
   "cell_type": "code",
   "execution_count": 1,
   "metadata": {},
   "outputs": [],
   "source": [
    "#Cargar datos \n",
    "import pandas as pd\n",
    "df = pd.read_json(\"C:/Users/Andre/Documents/laboratorio/Proyectos/sistemaRecomendacion/data/All_Beauty_5.json\",lines=True)"
   ]
  },
  {
   "cell_type": "code",
   "execution_count": 2,
   "metadata": {},
   "outputs": [
    {
     "data": {
      "text/html": [
       "<div>\n",
       "<style scoped>\n",
       "    .dataframe tbody tr th:only-of-type {\n",
       "        vertical-align: middle;\n",
       "    }\n",
       "\n",
       "    .dataframe tbody tr th {\n",
       "        vertical-align: top;\n",
       "    }\n",
       "\n",
       "    .dataframe thead th {\n",
       "        text-align: right;\n",
       "    }\n",
       "</style>\n",
       "<table border=\"1\" class=\"dataframe\">\n",
       "  <thead>\n",
       "    <tr style=\"text-align: right;\">\n",
       "      <th></th>\n",
       "      <th>overall</th>\n",
       "      <th>verified</th>\n",
       "      <th>reviewTime</th>\n",
       "      <th>reviewerID</th>\n",
       "      <th>asin</th>\n",
       "      <th>style</th>\n",
       "      <th>reviewerName</th>\n",
       "      <th>reviewText</th>\n",
       "      <th>summary</th>\n",
       "      <th>unixReviewTime</th>\n",
       "      <th>vote</th>\n",
       "      <th>image</th>\n",
       "    </tr>\n",
       "  </thead>\n",
       "  <tbody>\n",
       "    <tr>\n",
       "      <th>0</th>\n",
       "      <td>5</td>\n",
       "      <td>True</td>\n",
       "      <td>09 1, 2016</td>\n",
       "      <td>A3CIUOJXQ5VDQ2</td>\n",
       "      <td>B0000530HU</td>\n",
       "      <td>{'Size:': ' 7.0 oz', 'Flavor:': ' Classic Ice ...</td>\n",
       "      <td>Shelly F</td>\n",
       "      <td>As advertised. Reasonably priced</td>\n",
       "      <td>Five Stars</td>\n",
       "      <td>1472688000</td>\n",
       "      <td>NaN</td>\n",
       "      <td>NaN</td>\n",
       "    </tr>\n",
       "    <tr>\n",
       "      <th>1</th>\n",
       "      <td>5</td>\n",
       "      <td>True</td>\n",
       "      <td>11 14, 2013</td>\n",
       "      <td>A3H7T87S984REU</td>\n",
       "      <td>B0000530HU</td>\n",
       "      <td>{'Size:': ' 7.0 oz', 'Flavor:': ' Classic Ice ...</td>\n",
       "      <td>houserules18</td>\n",
       "      <td>Like the oder and the feel when I put it on my...</td>\n",
       "      <td>Good for the face</td>\n",
       "      <td>1384387200</td>\n",
       "      <td>NaN</td>\n",
       "      <td>NaN</td>\n",
       "    </tr>\n",
       "    <tr>\n",
       "      <th>2</th>\n",
       "      <td>1</td>\n",
       "      <td>True</td>\n",
       "      <td>08 18, 2013</td>\n",
       "      <td>A3J034YH7UG4KT</td>\n",
       "      <td>B0000530HU</td>\n",
       "      <td>{'Size:': ' 7.0 oz', 'Flavor:': ' Classic Ice ...</td>\n",
       "      <td>Adam</td>\n",
       "      <td>I bought this to smell nice after I shave.  Wh...</td>\n",
       "      <td>Smells awful</td>\n",
       "      <td>1376784000</td>\n",
       "      <td>NaN</td>\n",
       "      <td>NaN</td>\n",
       "    </tr>\n",
       "    <tr>\n",
       "      <th>3</th>\n",
       "      <td>5</td>\n",
       "      <td>False</td>\n",
       "      <td>05 3, 2011</td>\n",
       "      <td>A2UEO5XR3598GI</td>\n",
       "      <td>B0000530HU</td>\n",
       "      <td>{'Size:': ' 7.0 oz', 'Flavor:': ' Classic Ice ...</td>\n",
       "      <td>Rich K</td>\n",
       "      <td>HEY!! I am an Aqua Velva Man and absolutely lo...</td>\n",
       "      <td>Truth is There IS Nothing Like an AQUA VELVA MAN.</td>\n",
       "      <td>1304380800</td>\n",
       "      <td>25</td>\n",
       "      <td>NaN</td>\n",
       "    </tr>\n",
       "    <tr>\n",
       "      <th>4</th>\n",
       "      <td>5</td>\n",
       "      <td>True</td>\n",
       "      <td>05 6, 2011</td>\n",
       "      <td>A3SFRT223XXWF7</td>\n",
       "      <td>B00006L9LC</td>\n",
       "      <td>{'Size:': ' 200ml/6.7oz'}</td>\n",
       "      <td>C. C. Christian</td>\n",
       "      <td>If you ever want to feel pampered by a shampoo...</td>\n",
       "      <td>Bvlgari Shampoo</td>\n",
       "      <td>1304640000</td>\n",
       "      <td>3</td>\n",
       "      <td>NaN</td>\n",
       "    </tr>\n",
       "  </tbody>\n",
       "</table>\n",
       "</div>"
      ],
      "text/plain": [
       "   overall  verified   reviewTime      reviewerID        asin  \\\n",
       "0        5      True   09 1, 2016  A3CIUOJXQ5VDQ2  B0000530HU   \n",
       "1        5      True  11 14, 2013  A3H7T87S984REU  B0000530HU   \n",
       "2        1      True  08 18, 2013  A3J034YH7UG4KT  B0000530HU   \n",
       "3        5     False   05 3, 2011  A2UEO5XR3598GI  B0000530HU   \n",
       "4        5      True   05 6, 2011  A3SFRT223XXWF7  B00006L9LC   \n",
       "\n",
       "                                               style     reviewerName  \\\n",
       "0  {'Size:': ' 7.0 oz', 'Flavor:': ' Classic Ice ...         Shelly F   \n",
       "1  {'Size:': ' 7.0 oz', 'Flavor:': ' Classic Ice ...     houserules18   \n",
       "2  {'Size:': ' 7.0 oz', 'Flavor:': ' Classic Ice ...             Adam   \n",
       "3  {'Size:': ' 7.0 oz', 'Flavor:': ' Classic Ice ...           Rich K   \n",
       "4                          {'Size:': ' 200ml/6.7oz'}  C. C. Christian   \n",
       "\n",
       "                                          reviewText  \\\n",
       "0                   As advertised. Reasonably priced   \n",
       "1  Like the oder and the feel when I put it on my...   \n",
       "2  I bought this to smell nice after I shave.  Wh...   \n",
       "3  HEY!! I am an Aqua Velva Man and absolutely lo...   \n",
       "4  If you ever want to feel pampered by a shampoo...   \n",
       "\n",
       "                                             summary  unixReviewTime vote  \\\n",
       "0                                         Five Stars      1472688000  NaN   \n",
       "1                                  Good for the face      1384387200  NaN   \n",
       "2                                       Smells awful      1376784000  NaN   \n",
       "3  Truth is There IS Nothing Like an AQUA VELVA MAN.      1304380800   25   \n",
       "4                                    Bvlgari Shampoo      1304640000    3   \n",
       "\n",
       "  image  \n",
       "0   NaN  \n",
       "1   NaN  \n",
       "2   NaN  \n",
       "3   NaN  \n",
       "4   NaN  "
      ]
     },
     "execution_count": 2,
     "metadata": {},
     "output_type": "execute_result"
    }
   ],
   "source": [
    "df.head()"
   ]
  },
  {
   "cell_type": "code",
   "execution_count": 3,
   "metadata": {},
   "outputs": [
    {
     "data": {
      "text/html": [
       "<div>\n",
       "<style scoped>\n",
       "    .dataframe tbody tr th:only-of-type {\n",
       "        vertical-align: middle;\n",
       "    }\n",
       "\n",
       "    .dataframe tbody tr th {\n",
       "        vertical-align: top;\n",
       "    }\n",
       "\n",
       "    .dataframe thead th {\n",
       "        text-align: right;\n",
       "    }\n",
       "</style>\n",
       "<table border=\"1\" class=\"dataframe\">\n",
       "  <thead>\n",
       "    <tr style=\"text-align: right;\">\n",
       "      <th></th>\n",
       "      <th>overall</th>\n",
       "      <th>unixReviewTime</th>\n",
       "    </tr>\n",
       "  </thead>\n",
       "  <tbody>\n",
       "    <tr>\n",
       "      <th>count</th>\n",
       "      <td>5269.000000</td>\n",
       "      <td>5.269000e+03</td>\n",
       "    </tr>\n",
       "    <tr>\n",
       "      <th>mean</th>\n",
       "      <td>4.771873</td>\n",
       "      <td>1.441506e+09</td>\n",
       "    </tr>\n",
       "    <tr>\n",
       "      <th>std</th>\n",
       "      <td>0.743204</td>\n",
       "      <td>5.473127e+07</td>\n",
       "    </tr>\n",
       "    <tr>\n",
       "      <th>min</th>\n",
       "      <td>1.000000</td>\n",
       "      <td>1.095725e+09</td>\n",
       "    </tr>\n",
       "    <tr>\n",
       "      <th>25%</th>\n",
       "      <td>5.000000</td>\n",
       "      <td>1.407024e+09</td>\n",
       "    </tr>\n",
       "    <tr>\n",
       "      <th>50%</th>\n",
       "      <td>5.000000</td>\n",
       "      <td>1.445645e+09</td>\n",
       "    </tr>\n",
       "    <tr>\n",
       "      <th>75%</th>\n",
       "      <td>5.000000</td>\n",
       "      <td>1.481674e+09</td>\n",
       "    </tr>\n",
       "    <tr>\n",
       "      <th>max</th>\n",
       "      <td>5.000000</td>\n",
       "      <td>1.534982e+09</td>\n",
       "    </tr>\n",
       "  </tbody>\n",
       "</table>\n",
       "</div>"
      ],
      "text/plain": [
       "           overall  unixReviewTime\n",
       "count  5269.000000    5.269000e+03\n",
       "mean      4.771873    1.441506e+09\n",
       "std       0.743204    5.473127e+07\n",
       "min       1.000000    1.095725e+09\n",
       "25%       5.000000    1.407024e+09\n",
       "50%       5.000000    1.445645e+09\n",
       "75%       5.000000    1.481674e+09\n",
       "max       5.000000    1.534982e+09"
      ]
     },
     "execution_count": 3,
     "metadata": {},
     "output_type": "execute_result"
    }
   ],
   "source": [
    "df.describe()"
   ]
  },
  {
   "cell_type": "code",
   "execution_count": 4,
   "metadata": {},
   "outputs": [
    {
     "name": "stdout",
     "output_type": "stream",
     "text": [
      "<class 'pandas.core.frame.DataFrame'>\n",
      "RangeIndex: 5269 entries, 0 to 5268\n",
      "Data columns (total 12 columns):\n",
      " #   Column          Non-Null Count  Dtype \n",
      "---  ------          --------------  ----- \n",
      " 0   overall         5269 non-null   int64 \n",
      " 1   verified        5269 non-null   bool  \n",
      " 2   reviewTime      5269 non-null   object\n",
      " 3   reviewerID      5269 non-null   object\n",
      " 4   asin            5269 non-null   object\n",
      " 5   style           4624 non-null   object\n",
      " 6   reviewerName    5269 non-null   object\n",
      " 7   reviewText      5264 non-null   object\n",
      " 8   summary         5264 non-null   object\n",
      " 9   unixReviewTime  5269 non-null   int64 \n",
      " 10  vote            552 non-null    object\n",
      " 11  image           98 non-null     object\n",
      "dtypes: bool(1), int64(2), object(9)\n",
      "memory usage: 458.1+ KB\n"
     ]
    }
   ],
   "source": [
    "df.info()"
   ]
  },
  {
   "cell_type": "code",
   "execution_count": 5,
   "metadata": {},
   "outputs": [
    {
     "data": {
      "text/plain": [
       "overall              0\n",
       "verified             0\n",
       "reviewTime           0\n",
       "reviewerID           0\n",
       "asin                 0\n",
       "style              645\n",
       "reviewerName         0\n",
       "reviewText           5\n",
       "summary              5\n",
       "unixReviewTime       0\n",
       "vote              4717\n",
       "image             5171\n",
       "dtype: int64"
      ]
     },
     "execution_count": 5,
     "metadata": {},
     "output_type": "execute_result"
    }
   ],
   "source": [
    "df.isnull().sum()"
   ]
  },
  {
   "cell_type": "code",
   "execution_count": 6,
   "metadata": {},
   "outputs": [
    {
     "data": {
      "text/plain": [
       "'\\nColumns with missing values : \\n\\n-vote:  numeric (int)\\n-image : url\\n    '"
      ]
     },
     "execution_count": 6,
     "metadata": {},
     "output_type": "execute_result"
    }
   ],
   "source": [
    "\n",
    "#Delete all columns with 50% of missing data : \n",
    "#Eliminar columnas que tenga mas de del 50% con missing data : \n",
    "\n",
    "#paso 1 : \n",
    "\"\"\"\n",
    "Columns with missing values : \n",
    "\n",
    "-vote:  numeric (int)\n",
    "-image : url\n",
    "    \"\"\""
   ]
  },
  {
   "cell_type": "code",
   "execution_count": 7,
   "metadata": {},
   "outputs": [
    {
     "name": "stdout",
     "output_type": "stream",
     "text": [
      "porcentaje_nulos:\n",
      "overall            0.000000\n",
      "verified           0.000000\n",
      "reviewTime         0.000000\n",
      "reviewerID         0.000000\n",
      "asin               0.000000\n",
      "style             12.241412\n",
      "reviewerName       0.000000\n",
      "reviewText         0.094895\n",
      "summary            0.094895\n",
      "unixReviewTime     0.000000\n",
      "vote              89.523629\n",
      "image             98.140065\n",
      "dtype: float64\n"
     ]
    }
   ],
   "source": [
    "#paso 2 : Calcular el porcentaje de missing data :\n",
    "#calculate percentage of missing data :\n",
    "porcentaje_nulos= df.isnull().sum()/len(df)*100; \n",
    "print(\"porcentaje_nulos:\" )\n",
    "print(porcentaje_nulos)"
   ]
  },
  {
   "cell_type": "code",
   "execution_count": 8,
   "metadata": {},
   "outputs": [
    {
     "name": "stdout",
     "output_type": "stream",
     "text": [
      "columnas_a_eliminar: Index(['vote', 'image'], dtype='object')\n"
     ]
    }
   ],
   "source": [
    "#Paso 3: Definir el umbral de eliminacion : \n",
    "umbral = 50; \n",
    "columnas_a_eliminar=porcentaje_nulos[porcentaje_nulos>umbral].index\n",
    "print(\"columnas_a_eliminar:\",columnas_a_eliminar)"
   ]
  },
  {
   "cell_type": "code",
   "execution_count": 9,
   "metadata": {},
   "outputs": [],
   "source": [
    "#paso 4: eliminar columnas :\n",
    "df=df.drop(columns=columnas_a_eliminar)"
   ]
  },
  {
   "cell_type": "code",
   "execution_count": 10,
   "metadata": {},
   "outputs": [
    {
     "name": "stdout",
     "output_type": "stream",
     "text": [
      "      overall  verified   reviewTime      reviewerID        asin  \\\n",
      "0           5      True   09 1, 2016  A3CIUOJXQ5VDQ2  B0000530HU   \n",
      "1           5      True  11 14, 2013  A3H7T87S984REU  B0000530HU   \n",
      "2           1      True  08 18, 2013  A3J034YH7UG4KT  B0000530HU   \n",
      "3           5     False   05 3, 2011  A2UEO5XR3598GI  B0000530HU   \n",
      "4           5      True   05 6, 2011  A3SFRT223XXWF7  B00006L9LC   \n",
      "...       ...       ...          ...             ...         ...   \n",
      "5264        5      True  08 23, 2018   AUX122XW8ONG6  B01DLR9IDI   \n",
      "5265        5      True  08 23, 2018   AUX122XW8ONG6  B01DLR9IDI   \n",
      "5266        5      True  08 23, 2018   AUX122XW8ONG6  B01DLR9IDI   \n",
      "5267        5      True  08 23, 2018   AUX122XW8ONG6  B01DLR9IDI   \n",
      "5268        5      True  08 23, 2018   AUX122XW8ONG6  B01DLR9IDI   \n",
      "\n",
      "                                                  style     reviewerName  \\\n",
      "0     {'Size:': ' 7.0 oz', 'Flavor:': ' Classic Ice ...         Shelly F   \n",
      "1     {'Size:': ' 7.0 oz', 'Flavor:': ' Classic Ice ...     houserules18   \n",
      "2     {'Size:': ' 7.0 oz', 'Flavor:': ' Classic Ice ...             Adam   \n",
      "3     {'Size:': ' 7.0 oz', 'Flavor:': ' Classic Ice ...           Rich K   \n",
      "4                             {'Size:': ' 200ml/6.7oz'}  C. C. Christian   \n",
      "...                                                 ...              ...   \n",
      "5264                     {'Design:': ' ETA-C6B5F7C374'}   Amzon Customer   \n",
      "5265                     {'Design:': ' ETA-7117EE3788'}   Amzon Customer   \n",
      "5266                     {'Design:': ' ETA-BF66BD2F87'}   Amzon Customer   \n",
      "5267                     {'Design:': ' ETA-03868FCB34'}   Amzon Customer   \n",
      "5268                     {'Design:': ' ETA-C4893097E9'}   Amzon Customer   \n",
      "\n",
      "                                             reviewText  \\\n",
      "0                      As advertised. Reasonably priced   \n",
      "1     Like the oder and the feel when I put it on my...   \n",
      "2     I bought this to smell nice after I shave.  Wh...   \n",
      "3     HEY!! I am an Aqua Velva Man and absolutely lo...   \n",
      "4     If you ever want to feel pampered by a shampoo...   \n",
      "...                                                 ...   \n",
      "5264  I have genetic undereye darkness. Ive accepted...   \n",
      "5265                    I absolutely love this eye gel.   \n",
      "5266  The eye gel is easy to apply and I use it morn...   \n",
      "5267                     Ok this eye gel is good stuff.   \n",
      "5268  This is the first eye gel/cream that actually ...   \n",
      "\n",
      "                                                summary  unixReviewTime  \n",
      "0                                            Five Stars      1472688000  \n",
      "1                                     Good for the face      1384387200  \n",
      "2                                          Smells awful      1376784000  \n",
      "3     Truth is There IS Nothing Like an AQUA VELVA MAN.      1304380800  \n",
      "4                                       Bvlgari Shampoo      1304640000  \n",
      "...                                                 ...             ...  \n",
      "5264                                    Pretty Sweet!!!      1534982400  \n",
      "5265                                      As advertised      1534982400  \n",
      "5266                                I'm very happy with      1534982400  \n",
      "5267                                   Does it's thing!      1534982400  \n",
      "5268                                              Happy      1534982400  \n",
      "\n",
      "[5269 rows x 10 columns]\n"
     ]
    }
   ],
   "source": [
    "#paso 5: Verificar el dataset actualizado: \n",
    "print(df)"
   ]
  },
  {
   "cell_type": "code",
   "execution_count": 11,
   "metadata": {},
   "outputs": [],
   "source": [
    "#EDA \n",
    "import matplotlib.pyplot as plt "
   ]
  },
  {
   "cell_type": "code",
   "execution_count": 12,
   "metadata": {},
   "outputs": [
    {
     "data": {
      "image/png": "[encoded data removed]",
      "text/plain": [
       "<Figure size 1000x600 with 1 Axes>"
      ]
     },
     "metadata": {},
     "output_type": "display_data"
    }
   ],
   "source": [
    "df['overall'].hist(bins=50, figsize=(10,6))\n",
    "plt.title('Distribution of votes')\n",
    "plt.xlabel('overall')\n",
    "plt.ylabel('freceuncy')\n",
    "plt.show()"
   ]
  },
  {
   "cell_type": "code",
   "execution_count": 13,
   "metadata": {},
   "outputs": [],
   "source": [
    "#Imputation of string values : \n",
    "\n",
    "#mode  :\n",
    "\n",
    "moda=df['summary'].mode()[0]\n",
    "df['summary']=df['summary'].fillna(moda)"
   ]
  },
  {
   "cell_type": "code",
   "execution_count": 14,
   "metadata": {},
   "outputs": [
    {
     "name": "stdout",
     "output_type": "stream",
     "text": [
      "porcentaje_nulos2: overall            0.000000\n",
      "verified           0.000000\n",
      "reviewTime         0.000000\n",
      "reviewerID         0.000000\n",
      "asin               0.000000\n",
      "style             12.241412\n",
      "reviewerName       0.000000\n",
      "reviewText         0.094895\n",
      "summary            0.000000\n",
      "unixReviewTime     0.000000\n",
      "dtype: float64\n"
     ]
    }
   ],
   "source": [
    "porcentaje_nulos2=df.isnull().sum()/len(df)*100;\n",
    "print(\"porcentaje_nulos2:\", porcentaje_nulos2)"
   ]
  },
  {
   "cell_type": "code",
   "execution_count": 15,
   "metadata": {},
   "outputs": [
    {
     "name": "stdout",
     "output_type": "stream",
     "text": [
      "Requirement already satisfied: sentence-transformers in c:\\users\\andre\\appdata\\local\\programs\\python\\python312\\lib\\site-packages (3.4.1)\n",
      "Requirement already satisfied: scikit-learn in c:\\users\\andre\\appdata\\local\\programs\\python\\python312\\lib\\site-packages (1.6.1)\n",
      "Requirement already satisfied: transformers<5.0.0,>=4.41.0 in c:\\users\\andre\\appdata\\local\\programs\\python\\python312\\lib\\site-packages (from sentence-transformers) (4.49.0)\n",
      "Requirement already satisfied: tqdm in c:\\users\\andre\\appdata\\local\\programs\\python\\python312\\lib\\site-packages (from sentence-transformers) (4.67.1)\n",
      "Requirement already satisfied: torch>=1.11.0 in c:\\users\\andre\\appdata\\local\\programs\\python\\python312\\lib\\site-packages (from sentence-transformers) (2.6.0)\n",
      "Requirement already satisfied: scipy in c:\\users\\andre\\appdata\\local\\programs\\python\\python312\\lib\\site-packages (from sentence-transformers) (1.15.2)\n",
      "Requirement already satisfied: huggingface-hub>=0.20.0 in c:\\users\\andre\\appdata\\local\\programs\\python\\python312\\lib\\site-packages (from sentence-transformers) (0.29.0)\n",
      "Requirement already satisfied: Pillow in c:\\users\\andre\\appdata\\local\\programs\\python\\python312\\lib\\site-packages (from sentence-transformers) (11.1.0)\n",
      "Requirement already satisfied: numpy>=1.19.5 in c:\\users\\andre\\appdata\\local\\programs\\python\\python312\\lib\\site-packages (from scikit-learn) (1.26.4)\n",
      "Requirement already satisfied: joblib>=1.2.0 in c:\\users\\andre\\appdata\\local\\programs\\python\\python312\\lib\\site-packages (from scikit-learn) (1.4.2)\n",
      "Requirement already satisfied: threadpoolctl>=3.1.0 in c:\\users\\andre\\appdata\\local\\programs\\python\\python312\\lib\\site-packages (from scikit-learn) (3.5.0)\n",
      "Requirement already satisfied: filelock in c:\\users\\andre\\appdata\\local\\programs\\python\\python312\\lib\\site-packages (from huggingface-hub>=0.20.0->sentence-transformers) (3.15.1)\n",
      "Requirement already satisfied: fsspec>=2023.5.0 in c:\\users\\andre\\appdata\\local\\programs\\python\\python312\\lib\\site-packages (from huggingface-hub>=0.20.0->sentence-transformers) (2025.2.0)\n",
      "Requirement already satisfied: packaging>=20.9 in c:\\users\\andre\\appdata\\local\\programs\\python\\python312\\lib\\site-packages (from huggingface-hub>=0.20.0->sentence-transformers) (24.0)\n",
      "Requirement already satisfied: pyyaml>=5.1 in c:\\users\\andre\\appdata\\local\\programs\\python\\python312\\lib\\site-packages (from huggingface-hub>=0.20.0->sentence-transformers) (6.0.1)\n",
      "Requirement already satisfied: requests in c:\\users\\andre\\appdata\\local\\programs\\python\\python312\\lib\\site-packages (from huggingface-hub>=0.20.0->sentence-transformers) (2.32.2)\n",
      "Requirement already satisfied: typing-extensions>=3.7.4.3 in c:\\users\\andre\\appdata\\local\\programs\\python\\python312\\lib\\site-packages (from huggingface-hub>=0.20.0->sentence-transformers) (4.12.2)\n",
      "Requirement already satisfied: networkx in c:\\users\\andre\\appdata\\local\\programs\\python\\python312\\lib\\site-packages (from torch>=1.11.0->sentence-transformers) (3.4.2)\n",
      "Requirement already satisfied: jinja2 in c:\\users\\andre\\appdata\\local\\programs\\python\\python312\\lib\\site-packages (from torch>=1.11.0->sentence-transformers) (3.1.4)\n",
      "Requirement already satisfied: setuptools in c:\\users\\andre\\appdata\\local\\programs\\python\\python312\\lib\\site-packages (from torch>=1.11.0->sentence-transformers) (75.8.0)\n",
      "Requirement already satisfied: sympy==1.13.1 in c:\\users\\andre\\appdata\\local\\programs\\python\\python312\\lib\\site-packages (from torch>=1.11.0->sentence-transformers) (1.13.1)\n",
      "Requirement already satisfied: mpmath<1.4,>=1.1.0 in c:\\users\\andre\\appdata\\local\\programs\\python\\python312\\lib\\site-packages (from sympy==1.13.1->torch>=1.11.0->sentence-transformers) (1.3.0)\n",
      "Requirement already satisfied: colorama in c:\\users\\andre\\appdata\\local\\programs\\python\\python312\\lib\\site-packages (from tqdm->sentence-transformers) (0.4.6)\n",
      "Requirement already satisfied: regex!=2019.12.17 in c:\\users\\andre\\appdata\\local\\programs\\python\\python312\\lib\\site-packages (from transformers<5.0.0,>=4.41.0->sentence-transformers) (2024.11.6)\n",
      "Requirement already satisfied: tokenizers<0.22,>=0.21 in c:\\users\\andre\\appdata\\local\\programs\\python\\python312\\lib\\site-packages (from transformers<5.0.0,>=4.41.0->sentence-transformers) (0.21.0)\n",
      "Requirement already satisfied: safetensors>=0.4.1 in c:\\users\\andre\\appdata\\local\\programs\\python\\python312\\lib\\site-packages (from transformers<5.0.0,>=4.41.0->sentence-transformers) (0.5.2)\n",
      "Requirement already satisfied: MarkupSafe>=2.0 in c:\\users\\andre\\appdata\\local\\programs\\python\\python312\\lib\\site-packages (from jinja2->torch>=1.11.0->sentence-transformers) (2.1.5)\n",
      "Requirement already satisfied: charset-normalizer<4,>=2 in c:\\users\\andre\\appdata\\local\\programs\\python\\python312\\lib\\site-packages (from requests->huggingface-hub>=0.20.0->sentence-transformers) (3.3.2)\n",
      "Requirement already satisfied: idna<4,>=2.5 in c:\\users\\andre\\appdata\\local\\programs\\python\\python312\\lib\\site-packages (from requests->huggingface-hub>=0.20.0->sentence-transformers) (3.7)\n",
      "Requirement already satisfied: urllib3<3,>=1.21.1 in c:\\users\\andre\\appdata\\local\\programs\\python\\python312\\lib\\site-packages (from requests->huggingface-hub>=0.20.0->sentence-transformers) (2.2.1)\n",
      "Requirement already satisfied: certifi>=2017.4.17 in c:\\users\\andre\\appdata\\local\\programs\\python\\python312\\lib\\site-packages (from requests->huggingface-hub>=0.20.0->sentence-transformers) (2024.2.2)\n"
     ]
    },
    {
     "name": "stderr",
     "output_type": "stream",
     "text": [
      "\n",
      "[notice] A new release of pip is available: 24.0 -> 25.0.1\n",
      "[notice] To update, run: python.exe -m pip install --upgrade pip\n"
     ]
    }
   ],
   "source": [
    "#Embeddings for eliminate missing data from reviewText column : \n",
    "!pip install sentence-transformers scikit-learn  "
   ]
  },
  {
   "cell_type": "code",
   "execution_count": 16,
   "metadata": {},
   "outputs": [
    {
     "name": "stderr",
     "output_type": "stream",
     "text": [
      "c:\\Users\\Andre\\AppData\\Local\\Programs\\Python\\Python312\\Lib\\site-packages\\tqdm\\auto.py:21: TqdmWarning: IProgress not found. Please update jupyter and ipywidgets. See https://ipywidgets.readthedocs.io/en/stable/user_install.html\n",
      "  from .autonotebook import tqdm as notebook_tqdm\n"
     ]
    }
   ],
   "source": [
    "from sentence_transformers import SentenceTransformer"
   ]
  },
  {
   "cell_type": "code",
   "execution_count": 17,
   "metadata": {},
   "outputs": [],
   "source": [
    "#cargar el modelo de embeddings : \n",
    "model=SentenceTransformer('paraphrase-multilingual-MiniLM-L12-v2')\n"
   ]
  },
  {
   "cell_type": "code",
   "execution_count": 18,
   "metadata": {},
   "outputs": [],
   "source": [
    "#Generar embeddings para las reviews no nulas :\n",
    "reviews_validas= df[\"reviewText\"].dropna().tolist()\n",
    "embeddings=model.encode(reviews_validas)"
   ]
  },
  {
   "cell_type": "code",
   "execution_count": 19,
   "metadata": {},
   "outputs": [],
   "source": [
    "#Crear un contexto para filas  con valores faltantes \n",
    "\n",
    "#Crear una columna contexto \n",
    "df[\"contexto\"]=df.apply(lambda row: f\"summary: {row['summary']}\",axis=1)"
   ]
  },
  {
   "cell_type": "code",
   "execution_count": 20,
   "metadata": {},
   "outputs": [],
   "source": [
    "#generar embeddings para el contexto :\n",
    "embeddings_contexto=model.encode(df[\"contexto\"].tolist())"
   ]
  },
  {
   "cell_type": "code",
   "execution_count": 21,
   "metadata": {},
   "outputs": [],
   "source": [
    "from sklearn.metrics.pairwise import cosine_similarity\n",
    "import numpy as np\n",
    "\n",
    "#indices de filas con valores faltantes:\n",
    "indices_faltantes=df[df[\"reviewText\"].isnull()].index.tolist()\n",
    "\n",
    "for idx in indices_faltantes:\n",
    "    #obtener el embedding del contexto de la fila faltante: \n",
    "    embedding_fila=embeddings_contexto[idx].reshape(1,-1)\n",
    "    #calcular similitud con todas las reviews validas: \n",
    "    similitudes=cosine_similarity(embedding_fila,embeddings)\n",
    "    #Encontrar la review  mas similar \n",
    "    indice_mas_similar=np.argmax(similitudes)\n",
    "    review_imputada=reviews_validas[indice_mas_similar]\n",
    "    #Asignar la review al dataset \n",
    "    df.at[idx,\"reviewText\"]=review_imputada\n",
    "    "
   ]
  },
  {
   "cell_type": "code",
   "execution_count": 22,
   "metadata": {},
   "outputs": [
    {
     "name": "stdout",
     "output_type": "stream",
     "text": [
      "overall             0\n",
      "verified            0\n",
      "reviewTime          0\n",
      "reviewerID          0\n",
      "asin                0\n",
      "style             645\n",
      "reviewerName        0\n",
      "reviewText          0\n",
      "summary             0\n",
      "unixReviewTime      0\n",
      "contexto            0\n",
      "dtype: int64\n"
     ]
    }
   ],
   "source": [
    "#Verificar que no hayan valores faltantes :\n",
    "print(df.isnull().sum())"
   ]
  }
 ],
 "metadata": {
  "kernelspec": {
   "display_name": "Python 3",
   "language": "python",
   "name": "python3"
  },
  "language_info": {
   "codemirror_mode": {
    "name": "ipython",
    "version": 3
   },
   "file_extension": ".py",
   "mimetype": "text/x-python",
   "name": "python",
   "nbconvert_exporter": "python",
   "pygments_lexer": "ipython3",
   "version": "3.12.3"
  }
 },
 "nbformat": 4,
 "nbformat_minor": 2
}
